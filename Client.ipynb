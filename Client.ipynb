{
 "cells": [
  {
   "cell_type": "code",
   "execution_count": 1,
   "id": "361d896b-7de5-4b4a-a796-34c00ec8450a",
   "metadata": {},
   "outputs": [],
   "source": [
    "#task 1\n",
    "import mysql.connector as connector\n",
    "connection=connector.connect(\n",
    "                             user=\"ll_admin\",\n",
    "                             password=\"***\", \n",
    "                             db = \"LittleLemonDB\"\n",
    "                            )"
   ]
  },
  {
   "cell_type": "code",
   "execution_count": 2,
   "id": "d94fe00e-3312-4f3c-9c53-f18d6c1f9dee",
   "metadata": {},
   "outputs": [
    {
     "name": "stdout",
     "output_type": "stream",
     "text": [
      "[('Bookings',), ('Check',), ('Customers',), ('Delivery_status',), ('Employees',), ('Menu',), ('Orders',), ('OrdersView',)]\n"
     ]
    }
   ],
   "source": [
    "#task 2\n",
    "cursor = connection.cursor()\n",
    "show_tables_query = \"SHOW tables\" \n",
    "cursor.execute(show_tables_query)\n",
    "results = cursor.fetchall()\n",
    "print(results)"
   ]
  },
  {
   "cell_type": "code",
   "execution_count": 5,
   "id": "d9881276-cc06-468d-b8b7-77914c8c4c08",
   "metadata": {},
   "outputs": [
    {
     "name": "stdout",
     "output_type": "stream",
     "text": [
      "___________________________Report___________________________\n",
      "('Name', 'Phone', 'TotalCost')\n",
      "('Joakim', 2223334455, '344')\n",
      "('Anna', 1112223344, '148')\n",
      "('Joakim', 2223334455, '148')\n",
      "('Vanessa', 3334445566, '160')\n",
      "('Marcos', 4445556677, '172')\n"
     ]
    }
   ],
   "source": [
    "#task 3\n",
    "sql_query=\"\"\"SELECT c.Name, c.Phone, FORMAT(o.TotalCost,0) TotalCost\n",
    "            FROM LittleLemonDB.Orders o\n",
    "            JOIN LittleLemonDB.Customers c ON c.CustomerID = o.CustomerID\n",
    "            WHERE o.TotalCost>60\"\"\"\n",
    "cursor.execute(sql_query)\n",
    "results = cursor.fetchall()\n",
    "cols = cursor.column_names\n",
    "print('___________________________Report___________________________')\n",
    "print(cols)\n",
    "for result in results:\n",
    "    print(result)"
   ]
  },
  {
   "cell_type": "code",
   "execution_count": null,
   "id": "deeec080-328c-489d-afcf-7785dfdb910d",
   "metadata": {},
   "outputs": [],
   "source": []
  }
 ],
 "metadata": {
  "kernelspec": {
   "display_name": "Python 3 (ipykernel)",
   "language": "python",
   "name": "python3"
  },
  "language_info": {
   "codemirror_mode": {
    "name": "ipython",
    "version": 3
   },
   "file_extension": ".py",
   "mimetype": "text/x-python",
   "name": "python",
   "nbconvert_exporter": "python",
   "pygments_lexer": "ipython3",
   "version": "3.11.4"
  }
 },
 "nbformat": 4,
 "nbformat_minor": 5
}
